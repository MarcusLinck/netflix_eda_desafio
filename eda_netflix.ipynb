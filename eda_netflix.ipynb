{
 "cells": [
  {
   "cell_type": "code",
   "execution_count": 28,
   "metadata": {},
   "outputs": [],
   "source": [
    "import pandas as pd"
   ]
  },
  {
   "cell_type": "code",
   "execution_count": 29,
   "metadata": {},
   "outputs": [],
   "source": [
    "df_netflix = pd.read_csv('./datasets/netflix_daily_top_10.csv')"
   ]
  },
  {
   "cell_type": "code",
   "execution_count": 30,
   "metadata": {},
   "outputs": [
    {
     "data": {
      "text/html": [
       "<div>\n",
       "<style scoped>\n",
       "    .dataframe tbody tr th:only-of-type {\n",
       "        vertical-align: middle;\n",
       "    }\n",
       "\n",
       "    .dataframe tbody tr th {\n",
       "        vertical-align: top;\n",
       "    }\n",
       "\n",
       "    .dataframe thead th {\n",
       "        text-align: right;\n",
       "    }\n",
       "</style>\n",
       "<table border=\"1\" class=\"dataframe\">\n",
       "  <thead>\n",
       "    <tr style=\"text-align: right;\">\n",
       "      <th></th>\n",
       "      <th>As of</th>\n",
       "      <th>Rank</th>\n",
       "      <th>Year to Date Rank</th>\n",
       "      <th>Last Week Rank</th>\n",
       "      <th>Title</th>\n",
       "      <th>Type</th>\n",
       "      <th>Netflix Exclusive</th>\n",
       "      <th>Netflix Release Date</th>\n",
       "      <th>Days In Top 10</th>\n",
       "      <th>Viewership Score</th>\n",
       "    </tr>\n",
       "  </thead>\n",
       "  <tbody>\n",
       "    <tr>\n",
       "      <th>0</th>\n",
       "      <td>2020-04-01</td>\n",
       "      <td>1</td>\n",
       "      <td>1</td>\n",
       "      <td>1</td>\n",
       "      <td>Tiger King: Murder, Mayhem …</td>\n",
       "      <td>TV Show</td>\n",
       "      <td>Yes</td>\n",
       "      <td>Mar 20, 2020</td>\n",
       "      <td>9</td>\n",
       "      <td>90</td>\n",
       "    </tr>\n",
       "    <tr>\n",
       "      <th>1</th>\n",
       "      <td>2020-04-01</td>\n",
       "      <td>2</td>\n",
       "      <td>2</td>\n",
       "      <td>-</td>\n",
       "      <td>Ozark</td>\n",
       "      <td>TV Show</td>\n",
       "      <td>Yes</td>\n",
       "      <td>Jul 21, 2017</td>\n",
       "      <td>5</td>\n",
       "      <td>45</td>\n",
       "    </tr>\n",
       "    <tr>\n",
       "      <th>2</th>\n",
       "      <td>2020-04-01</td>\n",
       "      <td>3</td>\n",
       "      <td>3</td>\n",
       "      <td>2</td>\n",
       "      <td>All American</td>\n",
       "      <td>TV Show</td>\n",
       "      <td>NaN</td>\n",
       "      <td>Mar 28, 2019</td>\n",
       "      <td>9</td>\n",
       "      <td>76</td>\n",
       "    </tr>\n",
       "    <tr>\n",
       "      <th>3</th>\n",
       "      <td>2020-04-01</td>\n",
       "      <td>4</td>\n",
       "      <td>4</td>\n",
       "      <td>-</td>\n",
       "      <td>Blood Father</td>\n",
       "      <td>Movie</td>\n",
       "      <td>NaN</td>\n",
       "      <td>Mar 26, 2020</td>\n",
       "      <td>5</td>\n",
       "      <td>30</td>\n",
       "    </tr>\n",
       "    <tr>\n",
       "      <th>4</th>\n",
       "      <td>2020-04-01</td>\n",
       "      <td>5</td>\n",
       "      <td>5</td>\n",
       "      <td>4</td>\n",
       "      <td>The Platform</td>\n",
       "      <td>Movie</td>\n",
       "      <td>Yes</td>\n",
       "      <td>Mar 20, 2020</td>\n",
       "      <td>9</td>\n",
       "      <td>55</td>\n",
       "    </tr>\n",
       "  </tbody>\n",
       "</table>\n",
       "</div>"
      ],
      "text/plain": [
       "        As of  Rank Year to Date Rank Last Week Rank  \\\n",
       "0  2020-04-01     1                 1              1   \n",
       "1  2020-04-01     2                 2              -   \n",
       "2  2020-04-01     3                 3              2   \n",
       "3  2020-04-01     4                 4              -   \n",
       "4  2020-04-01     5                 5              4   \n",
       "\n",
       "                          Title     Type Netflix Exclusive  \\\n",
       "0  Tiger King: Murder, Mayhem …  TV Show               Yes   \n",
       "1                         Ozark  TV Show               Yes   \n",
       "2                  All American  TV Show               NaN   \n",
       "3                  Blood Father    Movie               NaN   \n",
       "4                  The Platform    Movie               Yes   \n",
       "\n",
       "  Netflix Release Date  Days In Top 10  Viewership Score  \n",
       "0         Mar 20, 2020               9                90  \n",
       "1         Jul 21, 2017               5                45  \n",
       "2         Mar 28, 2019               9                76  \n",
       "3         Mar 26, 2020               5                30  \n",
       "4         Mar 20, 2020               9                55  "
      ]
     },
     "execution_count": 30,
     "metadata": {},
     "output_type": "execute_result"
    }
   ],
   "source": [
    "df_netflix.head(5)"
   ]
  },
  {
   "cell_type": "markdown",
   "metadata": {},
   "source": [
    "## Dessa base, analise e extraia:\n",
    "\n",
    "- Tipos de dados disponíveis [ x ]\n",
    "- Período da análise feita   [ x ]\n",
    "- Tamanho da base de dados   [ x ]\n",
    "- Verificar dados nulos      [ x ]\n",
    "- Outliers                   [ x ]"
   ]
  },
  {
   "cell_type": "markdown",
   "metadata": {},
   "source": [
    "### Converter dados"
   ]
  },
  {
   "cell_type": "code",
   "execution_count": 31,
   "metadata": {},
   "outputs": [],
   "source": [
    "# Converter Year to Date Rank e Last Week Rank para numérico, substituindo '-' por NaN\n",
    "df_netflix['Year to Date Rank'] = pd.to_numeric(df_netflix['Year to Date Rank'], errors='coerce')\n",
    "df_netflix['Last Week Rank'] = pd.to_numeric(df_netflix['Last Week Rank'], errors='coerce')\n",
    "# Converter colunas de data para datetime\n",
    "df_netflix['As of'] = pd.to_datetime(df_netflix['As of'])\n",
    "df_netflix['Netflix Release Date'] = pd.to_datetime(df_netflix['Netflix Release Date'])"
   ]
  },
  {
   "cell_type": "markdown",
   "metadata": {},
   "source": [
    "### Tipos de dados disponiveis"
   ]
  },
  {
   "cell_type": "code",
   "execution_count": 52,
   "metadata": {},
   "outputs": [
    {
     "name": "stdout",
     "output_type": "stream",
     "text": [
      "<class 'pandas.core.frame.DataFrame'>\n",
      "RangeIndex: 7100 entries, 0 to 7099\n",
      "Data columns (total 10 columns):\n",
      " #   Column                Non-Null Count  Dtype         \n",
      "---  ------                --------------  -----         \n",
      " 0   As of                 7100 non-null   datetime64[ns]\n",
      " 1   Rank                  7100 non-null   int64         \n",
      " 2   Year to Date Rank     7100 non-null   float64       \n",
      " 3   Last Week Rank        7100 non-null   float64       \n",
      " 4   Title                 7100 non-null   object        \n",
      " 5   Type                  7100 non-null   object        \n",
      " 6   Netflix Exclusive     7100 non-null   object        \n",
      " 7   Netflix Release Date  7100 non-null   datetime64[ns]\n",
      " 8   Days In Top 10        7100 non-null   int64         \n",
      " 9   Viewership Score      7100 non-null   int64         \n",
      "dtypes: datetime64[ns](2), float64(2), int64(3), object(3)\n",
      "memory usage: 554.8+ KB\n"
     ]
    }
   ],
   "source": [
    "df_netflix.info()"
   ]
  },
  {
   "cell_type": "markdown",
   "metadata": {},
   "source": [
    "### Tamanho da base de dados"
   ]
  },
  {
   "cell_type": "code",
   "execution_count": 32,
   "metadata": {},
   "outputs": [
    {
     "data": {
      "text/plain": [
       "7100"
      ]
     },
     "execution_count": 32,
     "metadata": {},
     "output_type": "execute_result"
    }
   ],
   "source": [
    "len(df_netflix)"
   ]
  },
  {
   "cell_type": "markdown",
   "metadata": {},
   "source": [
    "### Verificar dados nulos"
   ]
  },
  {
   "cell_type": "code",
   "execution_count": 33,
   "metadata": {},
   "outputs": [
    {
     "data": {
      "text/plain": [
       "As of                      0\n",
       "Rank                       0\n",
       "Year to Date Rank        859\n",
       "Last Week Rank          3968\n",
       "Title                      0\n",
       "Type                       0\n",
       "Netflix Exclusive       2501\n",
       "Netflix Release Date       0\n",
       "Days In Top 10             0\n",
       "Viewership Score           0\n",
       "dtype: int64"
      ]
     },
     "execution_count": 33,
     "metadata": {},
     "output_type": "execute_result"
    }
   ],
   "source": [
    "df_netflix.isna().sum()"
   ]
  },
  {
   "cell_type": "code",
   "execution_count": 34,
   "metadata": {},
   "outputs": [
    {
     "data": {
      "text/plain": [
       "Year to Date Rank\n",
       "1.0     708\n",
       "2.0     708\n",
       "3.0     706\n",
       "4.0     705\n",
       "5.0     699\n",
       "6.0     675\n",
       "7.0     633\n",
       "8.0     554\n",
       "9.0     481\n",
       "10.0    372\n",
       "Name: count, dtype: int64"
      ]
     },
     "execution_count": 34,
     "metadata": {},
     "output_type": "execute_result"
    }
   ],
   "source": [
    "# Verificar valores de Year to Date Rank\n",
    "df_netflix['Year to Date Rank'].value_counts()"
   ]
  },
  {
   "cell_type": "code",
   "execution_count": 35,
   "metadata": {},
   "outputs": [
    {
     "name": "stderr",
     "output_type": "stream",
     "text": [
      "C:\\Users\\User\\AppData\\Local\\Temp\\ipykernel_7148\\3420951866.py:2: FutureWarning: A value is trying to be set on a copy of a DataFrame or Series through chained assignment using an inplace method.\n",
      "The behavior will change in pandas 3.0. This inplace method will never work because the intermediate object on which we are setting values always behaves as a copy.\n",
      "\n",
      "For example, when doing 'df[col].method(value, inplace=True)', try using 'df.method({col: value}, inplace=True)' or df[col] = df[col].method(value) instead, to perform the operation inplace on the original object.\n",
      "\n",
      "\n",
      "  df_netflix['Year to Date Rank'].fillna(0, inplace=True)\n"
     ]
    }
   ],
   "source": [
    "# Tranformar todos os nulos de Year to Date Rank em 0\n",
    "df_netflix['Year to Date Rank'].fillna(0, inplace=True)"
   ]
  },
  {
   "cell_type": "code",
   "execution_count": 40,
   "metadata": {},
   "outputs": [
    {
     "data": {
      "text/plain": [
       "Last Week Rank\n",
       "1.0     653\n",
       "2.0     564\n",
       "3.0     452\n",
       "4.0     336\n",
       "5.0     282\n",
       "6.0     240\n",
       "7.0     193\n",
       "8.0     167\n",
       "9.0     133\n",
       "10.0    112\n",
       "Name: count, dtype: int64"
      ]
     },
     "execution_count": 40,
     "metadata": {},
     "output_type": "execute_result"
    }
   ],
   "source": [
    "# Verificar valores de Last Week Rank\n",
    "df_netflix['Last Week Rank'].value_counts()"
   ]
  },
  {
   "cell_type": "code",
   "execution_count": 41,
   "metadata": {},
   "outputs": [
    {
     "name": "stderr",
     "output_type": "stream",
     "text": [
      "C:\\Users\\User\\AppData\\Local\\Temp\\ipykernel_7148\\1958388825.py:2: FutureWarning: A value is trying to be set on a copy of a DataFrame or Series through chained assignment using an inplace method.\n",
      "The behavior will change in pandas 3.0. This inplace method will never work because the intermediate object on which we are setting values always behaves as a copy.\n",
      "\n",
      "For example, when doing 'df[col].method(value, inplace=True)', try using 'df.method({col: value}, inplace=True)' or df[col] = df[col].method(value) instead, to perform the operation inplace on the original object.\n",
      "\n",
      "\n",
      "  df_netflix['Last Week Rank'].fillna(0, inplace=True)\n"
     ]
    }
   ],
   "source": [
    "# Tranformar todos os nulos de Last Week Rank em 0\n",
    "df_netflix['Last Week Rank'].fillna(0, inplace=True)"
   ]
  },
  {
   "cell_type": "code",
   "execution_count": 49,
   "metadata": {},
   "outputs": [
    {
     "data": {
      "text/plain": [
       "Netflix Exclusive\n",
       "Yes        4599\n",
       "Unknown    2501\n",
       "Name: count, dtype: int64"
      ]
     },
     "execution_count": 49,
     "metadata": {},
     "output_type": "execute_result"
    }
   ],
   "source": [
    "# Verificar valores de Netflix Exclusive  \n",
    "df_netflix['Netflix Exclusive'].value_counts()"
   ]
  },
  {
   "cell_type": "code",
   "execution_count": 45,
   "metadata": {},
   "outputs": [
    {
     "name": "stderr",
     "output_type": "stream",
     "text": [
      "C:\\Users\\User\\AppData\\Local\\Temp\\ipykernel_7148\\3436306686.py:2: FutureWarning: A value is trying to be set on a copy of a DataFrame or Series through chained assignment using an inplace method.\n",
      "The behavior will change in pandas 3.0. This inplace method will never work because the intermediate object on which we are setting values always behaves as a copy.\n",
      "\n",
      "For example, when doing 'df[col].method(value, inplace=True)', try using 'df.method({col: value}, inplace=True)' or df[col] = df[col].method(value) instead, to perform the operation inplace on the original object.\n",
      "\n",
      "\n",
      "  df_netflix['Netflix Exclusive'].fillna('Unknown', inplace=True)\n"
     ]
    }
   ],
   "source": [
    "# Tranformar todos os nulos de Netflix Exclusive em Unknown\n",
    "df_netflix['Netflix Exclusive'].fillna('Unknown', inplace=True)"
   ]
  },
  {
   "cell_type": "code",
   "execution_count": 47,
   "metadata": {},
   "outputs": [
    {
     "data": {
      "text/plain": [
       "As of                   0\n",
       "Rank                    0\n",
       "Year to Date Rank       0\n",
       "Last Week Rank          0\n",
       "Title                   0\n",
       "Type                    0\n",
       "Netflix Exclusive       0\n",
       "Netflix Release Date    0\n",
       "Days In Top 10          0\n",
       "Viewership Score        0\n",
       "dtype: int64"
      ]
     },
     "execution_count": 47,
     "metadata": {},
     "output_type": "execute_result"
    }
   ],
   "source": [
    "# Verificar dados nulos novamente\n",
    "df_netflix.isna().sum()"
   ]
  },
  {
   "cell_type": "code",
   "execution_count": 51,
   "metadata": {},
   "outputs": [
    {
     "name": "stdout",
     "output_type": "stream",
     "text": [
      "<class 'pandas.core.frame.DataFrame'>\n",
      "RangeIndex: 7100 entries, 0 to 7099\n",
      "Data columns (total 10 columns):\n",
      " #   Column                Non-Null Count  Dtype         \n",
      "---  ------                --------------  -----         \n",
      " 0   As of                 7100 non-null   datetime64[ns]\n",
      " 1   Rank                  7100 non-null   int64         \n",
      " 2   Year to Date Rank     7100 non-null   float64       \n",
      " 3   Last Week Rank        7100 non-null   float64       \n",
      " 4   Title                 7100 non-null   object        \n",
      " 5   Type                  7100 non-null   object        \n",
      " 6   Netflix Exclusive     7100 non-null   object        \n",
      " 7   Netflix Release Date  7100 non-null   datetime64[ns]\n",
      " 8   Days In Top 10        7100 non-null   int64         \n",
      " 9   Viewership Score      7100 non-null   int64         \n",
      "dtypes: datetime64[ns](2), float64(2), int64(3), object(3)\n",
      "memory usage: 554.8+ KB\n"
     ]
    }
   ],
   "source": [
    "df_netflix.info()"
   ]
  },
  {
   "cell_type": "markdown",
   "metadata": {},
   "source": [
    "### Período da análise feita"
   ]
  },
  {
   "cell_type": "code",
   "execution_count": 53,
   "metadata": {},
   "outputs": [
    {
     "name": "stdout",
     "output_type": "stream",
     "text": [
      "O período da análise vai de 2020-04-01 00:00:00 até 2022-03-11 00:00:00.\n"
     ]
    }
   ],
   "source": [
    "# Verificar o período da análise\n",
    "start_date = df_netflix['As of'].min()\n",
    "end_date = df_netflix['As of'].max()\n",
    "\n",
    "print(f\"O período da análise vai de {start_date} até {end_date}.\")\n"
   ]
  },
  {
   "cell_type": "markdown",
   "metadata": {},
   "source": [
    "### Outliers"
   ]
  },
  {
   "cell_type": "code",
   "execution_count": 56,
   "metadata": {},
   "outputs": [],
   "source": [
    "# Função para detectar outliers usando o IQR\n",
    "def detect_outliers_iqr(data, column):\n",
    "    Q1 = data[column].quantile(0.25)\n",
    "    Q3 = data[column].quantile(0.75)\n",
    "    IQR = Q3 - Q1\n",
    "\n",
    "    lower_bound = Q1 - 1.5 * IQR\n",
    "    upper_bound = Q3 + 1.5 * IQR\n",
    "\n",
    "    outliers = data[(data[column] < lower_bound) | (data[column] > upper_bound)]\n",
    "    return outliers"
   ]
  },
  {
   "cell_type": "code",
   "execution_count": 57,
   "metadata": {},
   "outputs": [
    {
     "name": "stdout",
     "output_type": "stream",
     "text": [
      "Empty DataFrame\n",
      "Columns: [As of, Rank, Year to Date Rank, Last Week Rank, Title, Type, Netflix Exclusive, Netflix Release Date, Days In Top 10, Viewership Score]\n",
      "Index: []\n"
     ]
    }
   ],
   "source": [
    "# Detectar outliers na coluna 'Rank'\n",
    "outliers_rank = detect_outliers_iqr(df_netflix, 'Rank')\n",
    "print(outliers_rank)"
   ]
  },
  {
   "cell_type": "code",
   "execution_count": 58,
   "metadata": {},
   "outputs": [
    {
     "name": "stdout",
     "output_type": "stream",
     "text": [
      "Empty DataFrame\n",
      "Columns: [As of, Rank, Year to Date Rank, Last Week Rank, Title, Type, Netflix Exclusive, Netflix Release Date, Days In Top 10, Viewership Score]\n",
      "Index: []\n"
     ]
    }
   ],
   "source": [
    "# Detectar outliers na coluna 'Year to Date Rank'\n",
    "outliers_year_to_date_rank = detect_outliers_iqr(df_netflix, 'Year to Date Rank')\n",
    "print(outliers_year_to_date_rank)"
   ]
  },
  {
   "cell_type": "code",
   "execution_count": 59,
   "metadata": {},
   "outputs": [
    {
     "name": "stdout",
     "output_type": "stream",
     "text": [
      "          As of  Rank  Year to Date Rank  Last Week Rank          Title  \\\n",
      "438  2020-05-14     9                9.0             0.0          Ozark   \n",
      "447  2020-05-15     8                9.0            10.0          Ozark   \n",
      "458  2020-05-16     9                8.0             0.0          Ozark   \n",
      "489  2020-05-19    10                0.0             7.0          Ozark   \n",
      "629  2020-06-02    10                0.0             0.0    Outer Banks   \n",
      "...         ...   ...                ...             ...            ...   \n",
      "7053 2022-03-07     4                3.0             4.0  Love is Blind   \n",
      "7063 2022-03-08     4                4.0             4.0  Love is Blind   \n",
      "7074 2022-03-09     5                4.0             5.0  Love is Blind   \n",
      "7085 2022-03-10     6                5.0             5.0  Love is Blind   \n",
      "7094 2022-03-11     5                6.0             6.0  Love is Blind   \n",
      "\n",
      "         Type Netflix Exclusive Netflix Release Date  Days In Top 10  \\\n",
      "438   TV Show               Yes           2017-07-21              41   \n",
      "447   TV Show               Yes           2017-07-21              42   \n",
      "458   TV Show               Yes           2017-07-21              43   \n",
      "489   TV Show               Yes           2017-07-21              44   \n",
      "629   TV Show               Yes           2020-04-15              41   \n",
      "...       ...               ...                  ...             ...   \n",
      "7053  TV Show               Yes           2020-02-13              42   \n",
      "7063  TV Show               Yes           2020-02-13              43   \n",
      "7074  TV Show               Yes           2020-02-13              44   \n",
      "7085  TV Show               Yes           2020-02-13              45   \n",
      "7094  TV Show               Yes           2020-02-13              46   \n",
      "\n",
      "      Viewership Score  \n",
      "438                256  \n",
      "447                259  \n",
      "458                261  \n",
      "489                262  \n",
      "629                291  \n",
      "...                ...  \n",
      "7053               288  \n",
      "7063               295  \n",
      "7074               301  \n",
      "7085               306  \n",
      "7094               312  \n",
      "\n",
      "[743 rows x 10 columns]\n"
     ]
    }
   ],
   "source": [
    "# Detectar outliers na coluna 'Days In Top 10'\n",
    "outliers_days_in_top_10 = detect_outliers_iqr(df_netflix, 'Days In Top 10')\n",
    "print(outliers_days_in_top_10)"
   ]
  },
  {
   "cell_type": "code",
   "execution_count": 60,
   "metadata": {},
   "outputs": [
    {
     "name": "stdout",
     "output_type": "stream",
     "text": [
      "          As of  Rank  Year to Date Rank  Last Week Rank  \\\n",
      "236  2020-04-24     7                7.0             2.0   \n",
      "247  2020-04-25     8                7.0             2.0   \n",
      "255  2020-04-26     6                8.0             3.0   \n",
      "269  2020-04-27    10                6.0             4.0   \n",
      "2382 2020-11-25     3                2.0             3.0   \n",
      "...         ...   ...                ...             ...   \n",
      "7008 2022-03-02     9                6.0             3.0   \n",
      "7063 2022-03-08     4                4.0             4.0   \n",
      "7074 2022-03-09     5                4.0             5.0   \n",
      "7085 2022-03-10     6                5.0             5.0   \n",
      "7094 2022-03-11     5                6.0             6.0   \n",
      "\n",
      "                             Title     Type Netflix Exclusive  \\\n",
      "236   Tiger King: Murder, Mayhem …  TV Show               Yes   \n",
      "247   Tiger King: Murder, Mayhem …  TV Show               Yes   \n",
      "255   Tiger King: Murder, Mayhem …  TV Show               Yes   \n",
      "269   Tiger King: Murder, Mayhem …  TV Show               Yes   \n",
      "2382          The Queenâs Gambit  TV Show               Yes   \n",
      "...                            ...      ...               ...   \n",
      "7008               Sweet Magnolias  TV Show               Yes   \n",
      "7063                 Love is Blind  TV Show               Yes   \n",
      "7074                 Love is Blind  TV Show               Yes   \n",
      "7085                 Love is Blind  TV Show               Yes   \n",
      "7094                 Love is Blind  TV Show               Yes   \n",
      "\n",
      "     Netflix Release Date  Days In Top 10  Viewership Score  \n",
      "236            2020-03-20              32               292  \n",
      "247            2020-03-20              33               295  \n",
      "255            2020-03-20              34               300  \n",
      "269            2020-03-20              35               301  \n",
      "2382           2020-10-23              33               296  \n",
      "...                   ...             ...               ...  \n",
      "7008           2020-05-19              45               344  \n",
      "7063           2020-02-13              43               295  \n",
      "7074           2020-02-13              44               301  \n",
      "7085           2020-02-13              45               306  \n",
      "7094           2020-02-13              46               312  \n",
      "\n",
      "[698 rows x 10 columns]\n"
     ]
    }
   ],
   "source": [
    "# Detectar outliers na coluna 'Viewership Score'\n",
    "outliers_viewership_score = detect_outliers_iqr(df_netflix, 'Viewership Score')\n",
    "print(outliers_viewership_score)"
   ]
  },
  {
   "cell_type": "markdown",
   "metadata": {},
   "source": [
    "#### Usando o IQR foram encontrados outliers em Days In Top 10 e Viewership Score"
   ]
  }
 ],
 "metadata": {
  "kernelspec": {
   "display_name": "desafio_eda-3LTduS6U",
   "language": "python",
   "name": "python3"
  },
  "language_info": {
   "codemirror_mode": {
    "name": "ipython",
    "version": 3
   },
   "file_extension": ".py",
   "mimetype": "text/x-python",
   "name": "python",
   "nbconvert_exporter": "python",
   "pygments_lexer": "ipython3",
   "version": "3.11.0"
  }
 },
 "nbformat": 4,
 "nbformat_minor": 2
}
